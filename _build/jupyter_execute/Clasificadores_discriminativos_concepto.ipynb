{
 "cells": [
  {
   "cell_type": "markdown",
   "metadata": {},
   "source": [
    "# Concepto"
   ]
  },
  {
   "cell_type": "markdown",
   "metadata": {},
   "source": [
    "Las tecnicas de clasificación discriminativa son una parte esencial en el Machine learning. Un 70% de los problemas en este area de conocimineto son problemas de clasificaión. Los problemas de clasificación se engloban dentro del aprendizaje supervisado, que no es mas que el modelo en el que el proceso de generación de conocimiento se realiza con un grupo de ejemplos o datos etiquetados.\n",
    "\n",
    "Un clasificador es un algoritmo supervisado que pretende asignar un grupo a una observación. En otras palabras, la variable dependiente en problemas de clasificación representa una clase en un conjunto finito. Al contrario que en los problemas de regresión en los que la variable dependiente toma un valor continuo. Entre ejemplos de problemas de clasificación se encuentra la clasificación de pacientes en función de si tienen cancer o no, o la detección de dígitos escritos a mano.\n",
    "\n",
    "En los dos siguientes capítulos vamos a estudiar dos maneras de realizar esta clasificación. La primera es desde un punto de vista discriminativo y la segunda desde una perspectiva generativa.\n",
    "\n",
    "Los clasificadores disciminativos modelan la pertenencia de las observaciones a una clase en función de las variables de entrada.\n",
    "\n",
    "Los clasificadores generativos ...\n",
    "\n",
    "El modelo de clasificación discriminativo de regresión logística es el mas utilizado, aun que no es el único. Cada uno de los modelos que se van a explicar es util dependiendo de la situación en la que nos encontremos."
   ]
  },
  {
   "cell_type": "code",
   "execution_count": null,
   "metadata": {},
   "outputs": [],
   "source": []
  },
  {
   "cell_type": "markdown",
   "metadata": {},
   "source": [
    "\n",
    "```{toctree}\n",
    ":hidden:\n",
    ":titlesonly:\n",
    "\n",
    "\n",
    "Regresion_log_concepto\n",
    "```\n"
   ]
  }
 ],
 "metadata": {
  "kernelspec": {
   "display_name": "R",
   "language": "R",
   "name": "ir"
  },
  "language_info": {
   "codemirror_mode": "r",
   "file_extension": ".r",
   "mimetype": "text/x-r-source",
   "name": "R",
   "pygments_lexer": "r",
   "version": "3.6.1"
  }
 },
 "nbformat": 4,
 "nbformat_minor": 2
}