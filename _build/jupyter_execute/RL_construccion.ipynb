{
 "cells": [
  {
   "cell_type": "markdown",
   "metadata": {},
   "source": [
    "# Construcción"
   ]
  },
  {
   "cell_type": "markdown",
   "metadata": {},
   "source": [
    "En esta seccion vamos a demostrar como construir un modelo de Regresión Lineal Simple en R."
   ]
  },
  {
   "cell_type": "markdown",
   "metadata": {},
   "source": [
    "Vamos a intentar simplificar al máximo la implementación del modelo. Para realiar esta tarea vamos a crear una función con el nombre de <font color=#8b0000>RegresionLinealFit()</font> que será la encargada de estimar los parámetros $\\beta$. Que símplemente consiste en calcular\n",
    "\n",
    "$$\\hat\\beta = (X^TX)^{-1}X^Ty$$"
   ]
  },
  {
   "cell_type": "code",
   "execution_count": 2,
   "metadata": {},
   "outputs": [],
   "source": [
    "RegresionLinealFit <- function(X,Y) {\n",
    "    # Creamos una matriz de 1\n",
    "    unos <- matrix(data = 1, nrow = 50, ncol = 1) #El numero nrow depen del dataset usado\n",
    "    \n",
    "    # Unimos la matrix X con la matriz de 1\n",
    "    X <- cbind(unos, X)\n",
    "    \n",
    "    X_T <- t(X) # Traspuesta de la matrix X\n",
    "    B_hat <- solve(X_T %*% X) %*% X_T %*% Y # Aplicamos la funcion \n",
    "    \n",
    "  return(B_hat)\n",
    "}"
   ]
  },
  {
   "cell_type": "code",
   "execution_count": 3,
   "metadata": {},
   "outputs": [
    {
     "name": "stderr",
     "output_type": "stream",
     "text": [
      "\n",
      "Attaching package: 'dplyr'\n",
      "\n",
      "The following objects are masked from 'package:stats':\n",
      "\n",
      "    filter, lag\n",
      "\n",
      "The following objects are masked from 'package:base':\n",
      "\n",
      "    intersect, setdiff, setequal, union\n",
      "\n",
      "Registered S3 methods overwritten by 'ggplot2':\n",
      "  method         from \n",
      "  [.quosures     rlang\n",
      "  c.quosures     rlang\n",
      "  print.quosures rlang\n"
     ]
    }
   ],
   "source": [
    "library(dplyr)\n",
    "library(ggplot2)"
   ]
  },
  {
   "cell_type": "markdown",
   "metadata": {},
   "source": [
    "Una vez hemos construido el modelo solo nos queda probarlo sobre un consjunto de datos. Las pruebas las realizaremos con el conjunto de datos <font color=#8b0000>cars</font>, que contiene datos sobre velocidades y distancias que viajan 50 coches una vez comienzan a frenar.\n",
    "\n",
    "Veamos como se ven representados dichos datos en una nube de puntos donde el eje *X* es la velocidad a la que circulan los vehiculos y el eje *Y* la distancia que viajan desde el momento que comienzan a frenar. "
   ]
  },
  {
   "cell_type": "code",
   "execution_count": 6,
   "metadata": {},
   "outputs": [
    {
     "data": {
      "image/png": "[encoded data removed]",
      "text/plain": [
       "plot without title"
      ]
     },
     "metadata": {
      "filenames": {
       "image/png": "C:\\Users\\david\\Documents\\GitHub\\libroBasicosML\\_build\\jupyter_execute\\RL_construccion_6_0.png"
      }
     },
     "output_type": "display_data"
    }
   ],
   "source": [
    "cars %>%\n",
    "        select(speed, dist) %>%\n",
    "        ggplot(aes (x = speed, y = dist))+\n",
    "            geom_point()"
   ]
  },
  {
   "cell_type": "markdown",
   "metadata": {},
   "source": [
    "El primer paso es separar la variable dependiente de la independiente."
   ]
  },
  {
   "cell_type": "code",
   "execution_count": 9,
   "metadata": {},
   "outputs": [],
   "source": [
    "X_list <- cars %>%\n",
    "        select(speed)\n",
    "\n",
    "Y_list <- cars %>%\n",
    "        select(dist)"
   ]
  },
  {
   "cell_type": "markdown",
   "metadata": {},
   "source": [
    "Nuestro modelo acepta como parámetros de entrada 2 matrices de datos (X e Y). Por lo que a continuación transformamos los datos que se encuantran en listas a matrices."
   ]
  },
  {
   "cell_type": "code",
   "execution_count": 10,
   "metadata": {},
   "outputs": [],
   "source": [
    "X_matrix <- matrix(unlist(X_list), ncol = 1, byrow = TRUE)\n",
    "\n",
    "Y_matrix <- matrix(unlist(Y_list), ncol = 1, byrow = TRUE)"
   ]
  },
  {
   "cell_type": "markdown",
   "metadata": {},
   "source": [
    "Finalmente ejecutamos la función construida con los parámetros necesarios. En este caso la matrix de datos que contiene la variabel independiente y la matriz de datos que contiene la variabel dependiente.\n",
    "\n",
    "Almacenamos el resultado en una variable"
   ]
  },
  {
   "cell_type": "code",
   "execution_count": 11,
   "metadata": {},
   "outputs": [],
   "source": [
    "modelo <- RegresionLinealFit(X_matrix, Y_matrix)"
   ]
  },
  {
   "cell_type": "markdown",
   "metadata": {},
   "source": [
    "Para finalizar vamos a representar gráficamente el conjunto de datos con la recta que define al mismo. Pero antes debemos asignar los valores a las variables *b*, termino independiente de la ecuación de la recta, y *m*, pendiente de la recta. Para posteriormente introducir los valores de dichas variables en la ecuación\n",
    "\n",
    "$$y = b + m * x$$\n",
    "\n",
    "Con esta ecuación podemos hallar la coordenada y en función de la coordenada x con los valore *b* y *m* que nos ha devuelto el modelo de Regresión Lineal. "
   ]
  },
  {
   "cell_type": "code",
   "execution_count": 12,
   "metadata": {},
   "outputs": [],
   "source": [
    "modelo_df = as.data.frame(t(modelo), stringsAsFactors = FALSE)\n",
    "\n",
    "b <- modelo_df %>%\n",
    "            select(V1)\n",
    "\n",
    "b <- as.numeric(b)\n",
    "\n",
    "m <- modelo_df %>%\n",
    "            select(V2)\n",
    "\n",
    "m <- as.numeric(m)"
   ]
  },
  {
   "cell_type": "code",
   "execution_count": 13,
   "metadata": {},
   "outputs": [
    {
     "data": {
      "image/png": "[encoded data removed]",
      "text/plain": [
       "plot without title"
      ]
     },
     "metadata": {
      "filenames": {
       "image/png": "C:\\Users\\david\\Documents\\GitHub\\libroBasicosML\\_build\\jupyter_execute\\RL_construccion_15_0.png"
      }
     },
     "output_type": "display_data"
    }
   ],
   "source": [
    "ggplot() +\n",
    "    geom_point(data = cars, aes (x = speed, y = dist)) +\n",
    "    geom_line(data = NULL, aes(x= c(5,25) , y=c((5 * m) + b, (25 * m) + b)),color='red')"
   ]
  },
  {
   "cell_type": "code",
   "execution_count": null,
   "metadata": {},
   "outputs": [],
   "source": []
  }
 ],
 "metadata": {
  "kernelspec": {
   "display_name": "R",
   "language": "R",
   "name": "ir"
  },
  "language_info": {
   "codemirror_mode": "r",
   "file_extension": ".r",
   "mimetype": "text/x-r-source",
   "name": "R",
   "pygments_lexer": "r",
   "version": "3.6.1"
  }
 },
 "nbformat": 4,
 "nbformat_minor": 2
}