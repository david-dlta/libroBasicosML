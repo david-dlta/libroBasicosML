{
 "cells": [
  {
   "cell_type": "markdown",
   "metadata": {},
   "source": [
    "# Construcción"
   ]
  },
  {
   "cell_type": "markdown",
   "metadata": {},
   "source": [
    "En esta seccion vamos a demostrar como construir un modelo de Regresión Lineal Simple en R."
   ]
  },
  {
   "cell_type": "markdown",
   "metadata": {},
   "source": [
    "Vamos a intentar simplificar al máximo la implementación del modelo. Para realiar esta tarea vamos a crear una función con el nombre de <font color=#8b0000>RegresionLinealFit()</font> que será la encargada de estimar los parámetros $\\beta$. Que símplemente consiste en calcular\n",
    "\n",
    "$$\\hat\\beta = (X^TX)^{-1}X^Ty$$"
   ]
  },
  {
   "cell_type": "code",
   "execution_count": 96,
   "metadata": {},
   "outputs": [],
   "source": [
    "RegresionLinealFit <- function(X,Y) {\n",
    "    # Creamos una matriz de 1\n",
    "    unos <- matrix(data = 1, nrow = 50, ncol = 1) #El numero nrow depen del dataset usado\n",
    "    \n",
    "    # Unimos la matrix X con la matriz de 1\n",
    "    X <- cbind(unos, X)\n",
    "    \n",
    "    X_T <- t(X) # Traspuesta de la matrix X\n",
    "    B_hat <- solve(X_T %*% X) %*% X_T %*% Y # Aplicamos la funcion \n",
    "    \n",
    "  return(B_hat)\n",
    "}"
   ]
  },
  {
   "cell_type": "markdown",
   "metadata": {},
   "source": [
    "Una vez hemos construido el modelo solo nos queda probarlo sobre un consjunto de datos. Las pruebas las realizaremos con el conjunto de datos <font color=#8b0000>cars</font>, que contiene datos sobre velocidades y distancias que viajan 50 coches una vez comienzan a frenar.\n",
    "\n",
    "Veamos como se ven representados dichos datos en una nube de puntos donde el eje *X* es la velocidad a la que circulan los vehiculos y el eje *Y* la distancia que viajan desde el momento que comienzan a frenar. "
   ]
  },
  {
   "cell_type": "code",
   "execution_count": 97,
   "metadata": {},
   "outputs": [
    {
     "data": {
      "image/png": "[encoded data removed]",
      "text/plain": [
       "plot without title"
      ]
     },
     "metadata": {},
     "output_type": "display_data"
    }
   ],
   "source": [
    "cars %>%\n",
    "        select(speed, dist) %>%\n",
    "        ggplot(aes (x = speed, y = dist))+\n",
    "            geom_point()"
   ]
  },
  {
   "cell_type": "markdown",
   "metadata": {},
   "source": [
    "El primer paso es separar la variable dependiente de la independiente."
   ]
  },
  {
   "cell_type": "code",
   "execution_count": 128,
   "metadata": {},
   "outputs": [],
   "source": [
    "X_list <- cars %>%\n",
    "        select(speed)\n",
    "\n",
    "Y_list <- cars %>%\n",
    "        select(dist)"
   ]
  },
  {
   "cell_type": "markdown",
   "metadata": {},
   "source": [
    "Nuestro modelo acepta como parámetros de entrada 2 matrices de datos (X e Y). Por lo que a continuación transformamos los datos que se encuantran en listas a matrices."
   ]
  },
  {
   "cell_type": "code",
   "execution_count": 99,
   "metadata": {},
   "outputs": [],
   "source": [
    "X_matrix <- matrix(unlist(X_list), ncol = 1, byrow = TRUE)\n",
    "\n",
    "Y_matrix <- matrix(unlist(Y_list), ncol = 1, byrow = TRUE)"
   ]
  },
  {
   "cell_type": "markdown",
   "metadata": {},
   "source": [
    "Finalmente ejecutamos la función construida con los parámetros necesarios. En este caso la matrix de datos que contiene la variabel independiente y la matriz de datos que contiene la variabel denpendiente.\n",
    "\n",
    "Almacenamos el resultado en una variable"
   ]
  },
  {
   "cell_type": "code",
   "execution_count": 159,
   "metadata": {},
   "outputs": [],
   "source": [
    "modelo <- RegresionLinealFit(X_matrix, Y_matrix)"
   ]
  },
  {
   "cell_type": "markdown",
   "metadata": {},
   "source": [
    "Para finalizar vamos a representar gráficamente el conjunto de datos con la recta que define al mismo."
   ]
  },
  {
   "cell_type": "code",
   "execution_count": 191,
   "metadata": {},
   "outputs": [],
   "source": [
    "modelo_df = as.data.frame(t(modelo), stringsAsFactors = FALSE)\n",
    "\n",
    "punto_0 <- modelo_df %>%\n",
    "            select(V1)\n",
    "\n",
    "punto_0 <- as.numeric(punto_0)\n",
    "\n",
    "punto_1 <- modelo_df %>%\n",
    "            select(V2)\n",
    "\n",
    "punto_1 <- as.numeric(punto_1)\n",
    "\n",
    "\n",
    "#punto_0 <- modelo_df[1] + modelo_df[2] * 2.5\n",
    "\n",
    "#punto_1 <- modelo_df[1] + modelo_df[2] * 25"
   ]
  },
  {
   "cell_type": "code",
   "execution_count": 166,
   "metadata": {},
   "outputs": [
    {
     "data": {
      "text/html": [
       "<table>\n",
       "<thead><tr><th scope=col>V1</th><th scope=col>V2</th></tr></thead>\n",
       "<tbody>\n",
       "\t<tr><td>-17.57909</td><td>3.932409 </td></tr>\n",
       "</tbody>\n",
       "</table>\n"
      ],
      "text/latex": [
       "\\begin{tabular}{r|ll}\n",
       " V1 & V2\\\\\n",
       "\\hline\n",
       "\t -17.57909 & 3.932409 \\\\\n",
       "\\end{tabular}\n"
      ],
      "text/markdown": [
       "\n",
       "| V1 | V2 |\n",
       "|---|---|\n",
       "| -17.57909 | 3.932409  |\n",
       "\n"
      ],
      "text/plain": [
       "  V1        V2      \n",
       "1 -17.57909 3.932409"
      ]
     },
     "metadata": {},
     "output_type": "display_data"
    }
   ],
   "source": [
    "modelo_df"
   ]
  },
  {
   "cell_type": "code",
   "execution_count": 180,
   "metadata": {},
   "outputs": [
    {
     "data": {
      "text/html": [
       "'double'"
      ],
      "text/latex": [
       "'double'"
      ],
      "text/markdown": [
       "'double'"
      ],
      "text/plain": [
       "[1] \"double\""
      ]
     },
     "metadata": {},
     "output_type": "display_data"
    }
   ],
   "source": [
    "typeof(punto_0)"
   ]
  },
  {
   "cell_type": "code",
   "execution_count": 192,
   "metadata": {},
   "outputs": [],
   "source": [
    "p <- c(punto_0, punto_1)"
   ]
  },
  {
   "cell_type": "code",
   "execution_count": 207,
   "metadata": {},
   "outputs": [],
   "source": [
    "df <- as.data.frame(t(p))"
   ]
  },
  {
   "cell_type": "code",
   "execution_count": 209,
   "metadata": {},
   "outputs": [
    {
     "name": "stderr",
     "output_type": "stream",
     "text": [
      "geom_path: Each group consists of only one observation. Do you need to adjust\n",
      "the group aesthetic?\n"
     ]
    },
    {
     "data": {
      "image/png": "[encoded data removed]",
      "text/plain": [
       "plot without title"
      ]
     },
     "metadata": {},
     "output_type": "display_data"
    }
   ],
   "source": [
    "cars %>%\n",
    "        select(speed, dist) %>%\n",
    "        ggplot() +\n",
    "            geom_point(aes (x = speed, y = dist)) +\n",
    "            geom_line(data = df, color='red', aes(x= V1 + V2 * 2.5 , y=V1 + V2 * 25, group = 1))"
   ]
  },
  {
   "cell_type": "code",
   "execution_count": 184,
   "metadata": {},
   "outputs": [
    {
     "name": "stderr",
     "output_type": "stream",
     "text": [
      "geom_path: Each group consists of only one observation. Do you need to adjust\n",
      "the group aesthetic?\n"
     ]
    },
    {
     "data": {
      "image/png": "[encoded data removed]",
      "text/plain": [
       "plot without title"
      ]
     },
     "metadata": {},
     "output_type": "display_data"
    }
   ],
   "source": [
    "ggplot() + geom_line(color='red', aes(x= punto_0 + punto_1 * 2.5 , y=punto_0 + punto_1 * 25, group = 1))"
   ]
  },
  {
   "cell_type": "code",
   "execution_count": 211,
   "metadata": {},
   "outputs": [
    {
     "name": "stderr",
     "output_type": "stream",
     "text": [
      "geom_path: Each group consists of only one observation. Do you need to adjust\n",
      "the group aesthetic?\n"
     ]
    },
    {
     "data": {
      "image/png": "[encoded data removed]",
      "text/plain": [
       "plot without title"
      ]
     },
     "metadata": {},
     "output_type": "display_data"
    }
   ],
   "source": [
    "ggplot(data = df, aes(x= V1 + V2 * 2.5 , y=V1 + V2 * 25, group = 1)) + geom_line()"
   ]
  },
  {
   "cell_type": "code",
   "execution_count": 214,
   "metadata": {},
   "outputs": [
    {
     "name": "stdout",
     "output_type": "stream",
     "text": [
      "Observations: 1\n",
      "Variables: 2\n",
      "$ V1 <dbl> -17.57909\n",
      "$ V2 <dbl> 3.932409\n"
     ]
    }
   ],
   "source": [
    "glimpse(df)"
   ]
  },
  {
   "cell_type": "code",
   "execution_count": 197,
   "metadata": {},
   "outputs": [
    {
     "data": {
      "text/html": [
       "'data.frame'"
      ],
      "text/latex": [
       "'data.frame'"
      ],
      "text/markdown": [
       "'data.frame'"
      ],
      "text/plain": [
       "[1] \"data.frame\""
      ]
     },
     "metadata": {},
     "output_type": "display_data"
    },
    {
     "data": {
      "text/html": [
       "<table>\n",
       "<thead><tr><th scope=col>V1</th></tr></thead>\n",
       "<tbody>\n",
       "\t<tr><td>-17.57909</td></tr>\n",
       "</tbody>\n",
       "</table>\n"
      ],
      "text/latex": [
       "\\begin{tabular}{r|l}\n",
       " V1\\\\\n",
       "\\hline\n",
       "\t -17.57909\\\\\n",
       "\\end{tabular}\n"
      ],
      "text/markdown": [
       "\n",
       "| V1 |\n",
       "|---|\n",
       "| -17.57909 |\n",
       "\n"
      ],
      "text/plain": [
       "  V1       \n",
       "1 -17.57909"
      ]
     },
     "metadata": {},
     "output_type": "display_data"
    }
   ],
   "source": [
    "datamatrix = as.data.frame(t(p), stringsAsFactors = FALSE)\n",
    "\n",
    "class(datamatrix)\n",
    "\n",
    "datamatrix[1]"
   ]
  },
  {
   "cell_type": "code",
   "execution_count": null,
   "metadata": {},
   "outputs": [],
   "source": [
    "ggplot(DF,aes(Day, Measure)) + \n",
    "    geom_point() + \n",
    "    stat_summary(fun.y = \"mean\", geom=\"line\")\n",
    "\n",
    "\n",
    "geom_line(aes((modelo[1] + (modelo[2] * 2.5)) ,(modelo[1] + modelo[2] * 25),color='red'))"
   ]
  }
 ],
 "metadata": {
  "kernelspec": {
   "display_name": "R",
   "language": "R",
   "name": "ir"
  },
  "language_info": {
   "codemirror_mode": "r",
   "file_extension": ".r",
   "mimetype": "text/x-r-source",
   "name": "R",
   "pygments_lexer": "r",
   "version": "3.6.1"
  }
 },
 "nbformat": 4,
 "nbformat_minor": 2
}
